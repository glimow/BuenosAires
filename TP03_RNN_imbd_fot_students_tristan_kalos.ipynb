{
  "nbformat": 4,
  "nbformat_minor": 0,
  "metadata": {
    "colab": {
      "name": "TP03_RNN_imbd_fot_students_tristan_kalos.ipynb",
      "version": "0.3.2",
      "provenance": [],
      "collapsed_sections": [],
      "include_colab_link": true
    },
    "kernelspec": {
      "display_name": "Python 3",
      "language": "python",
      "name": "python3"
    },
    "accelerator": "TPU"
  },
  "cells": [
    {
      "cell_type": "markdown",
      "metadata": {
        "id": "view-in-github",
        "colab_type": "text"
      },
      "source": [
        "<a href=\"https://colab.research.google.com/github/glimow/BuenosAires/blob/master/TP03_RNN_imbd_fot_students_tristan_kalos.ipynb\" target=\"_parent\"><img src=\"https://colab.research.google.com/assets/colab-badge.svg\" alt=\"Open In Colab\"/></a>"
      ]
    },
    {
      "metadata": {
        "colab_type": "text",
        "id": "PBFqSEkKqpCN"
      },
      "cell_type": "markdown",
      "source": [
        "# TP RNN \n",
        "# Using Many-to-One for movie rating predicton\n",
        "\n",
        "For any remark or suggestion, please feel free to contact me at:\n",
        "geoffroy.peeters@telecom-paristech.fr\n",
        "\n",
        "Last edit: 2019/01/15 geoffroy.peeters@telecom-paristech.fr\n",
        "\n",
        "### Objective:\n",
        "We will implement two different networks to perform automatic rating (0 or 1) of a movie given the text of its review.\n",
        "We will use the ```imdb``` (internet movie database) dataset.\n",
        "\n",
        "The reviews are already available in the form of indexes that point to a word dictionary: each word is already encoded as an index in the dictionary."
      ]
    },
    {
      "metadata": {
        "colab_type": "text",
        "id": "QmkCSNaXLqjh"
      },
      "cell_type": "markdown",
      "source": [
        "### Import packages"
      ]
    },
    {
      "metadata": {
        "colab_type": "code",
        "id": "AOqjzDwioJj9",
        "colab": {}
      },
      "cell_type": "code",
      "source": [
        "import numpy\n",
        "from keras.datasets import imdb\n",
        "from keras.models import Sequential\n",
        "from keras.preprocessing import sequence\n",
        "from keras.layers import Dense, Activation, Embedding, Dropout, Input, LSTM, Reshape, Lambda, RepeatVector, Flatten\n",
        "from keras import Model\n",
        "from keras import backend as K"
      ],
      "execution_count": 0,
      "outputs": []
    },
    {
      "metadata": {
        "colab_type": "text",
        "id": "v5Yp4OQVvUtr"
      },
      "cell_type": "markdown",
      "source": [
        "## Parameters of the model\n",
        "\n",
        "-  We only consider the ```top_words``` first words in the word dictionary\n",
        "- We truncate/zerp-pad each sequence a length ```max_review_length````"
      ]
    },
    {
      "metadata": {
        "colab_type": "code",
        "id": "4C_Pv7rYvRkM",
        "colab": {}
      },
      "cell_type": "code",
      "source": [
        "top_words = 5000 \n",
        "max_review_length = 100"
      ],
      "execution_count": 0,
      "outputs": []
    },
    {
      "metadata": {
        "colab_type": "text",
        "id": "ZsNcRimyLzgP"
      },
      "cell_type": "markdown",
      "source": [
        "## Import IMDB data"
      ]
    },
    {
      "metadata": {
        "colab_type": "code",
        "id": "5Gfe1ex8oN8Q",
        "colab": {}
      },
      "cell_type": "code",
      "source": [
        "# Import the IMDB data and only consider the ``top_words``` most used words\n",
        "(X_train, y_train), (X_test, y_test) = imdb.load_data(num_words=top_words)"
      ],
      "execution_count": 0,
      "outputs": []
    },
    {
      "metadata": {
        "id": "0JaACGIx2cuE",
        "colab_type": "code",
        "colab": {
          "base_uri": "https://localhost:8080/",
          "height": 34
        },
        "outputId": "225494f5-8606-48f0-bc90-384bccfa5211"
      },
      "cell_type": "code",
      "source": [
        "y_train[1]"
      ],
      "execution_count": 22,
      "outputs": [
        {
          "output_type": "execute_result",
          "data": {
            "text/plain": [
              "0"
            ]
          },
          "metadata": {
            "tags": []
          },
          "execution_count": 22
        }
      ]
    },
    {
      "metadata": {
        "colab_type": "text",
        "id": "iSc5LmksOLyr"
      },
      "cell_type": "markdown",
      "source": [
        "## Data content\n",
        "\n",
        "- ```X_train``` and ```X_test``` are numpy arrays of lists. \n",
        "  - each item in a list is the index in the word dictionary. So that a list is the sequence of index of words.\n",
        "\n",
        "- ```y_train``` and ```y_test``` are a numpy arrays of the same dimension as ```X_train``` and ```X_test``` \n",
        "  - they contains the values 0 (bad movie) or 1 (good movie)"
      ]
    },
    {
      "metadata": {
        "colab_type": "code",
        "id": "WouODCPrtiuu",
        "outputId": "69618175-f67f-4e3b-85b7-505d23e9e66b",
        "colab": {
          "base_uri": "https://localhost:8080/",
          "height": 489
        }
      },
      "cell_type": "code",
      "source": [
        "print(\"type(X_train):\", type(X_train))\n",
        "print(\"number of training sequences: X_train.shape:\", X_train.shape)\n",
        "print(\"type(X_train[0]):\",type(X_train[0]))\n",
        "print(\"length of the first training sequence: len(X_train[0]):\",len(X_train[0]))\n",
        "print(\"length of the second training sequence: len(X_train[0]):\",len(X_train[1]))\n",
        "print(\"list of data of the first training sequence: X_train[0]:\", X_train[0] )\n",
        "len_list = [len(train) for train in X_train]\n",
        "print(\"maximum length of a training sequence:\", max(len_list))\n",
        "\n",
        "import matplotlib.pyplot as plt\n",
        "plt.hist(len_list, 100);"
      ],
      "execution_count": 23,
      "outputs": [
        {
          "output_type": "stream",
          "text": [
            "type(X_train): <class 'numpy.ndarray'>\n",
            "number of training sequences: X_train.shape: (25000,)\n",
            "type(X_train[0]): <class 'list'>\n",
            "length of the first training sequence: len(X_train[0]): 218\n",
            "length of the second training sequence: len(X_train[0]): 189\n",
            "list of data of the first training sequence: X_train[0]: [1, 14, 22, 16, 43, 530, 973, 1622, 1385, 65, 458, 4468, 66, 3941, 4, 173, 36, 256, 5, 25, 100, 43, 838, 112, 50, 670, 2, 9, 35, 480, 284, 5, 150, 4, 172, 112, 167, 2, 336, 385, 39, 4, 172, 4536, 1111, 17, 546, 38, 13, 447, 4, 192, 50, 16, 6, 147, 2025, 19, 14, 22, 4, 1920, 4613, 469, 4, 22, 71, 87, 12, 16, 43, 530, 38, 76, 15, 13, 1247, 4, 22, 17, 515, 17, 12, 16, 626, 18, 2, 5, 62, 386, 12, 8, 316, 8, 106, 5, 4, 2223, 2, 16, 480, 66, 3785, 33, 4, 130, 12, 16, 38, 619, 5, 25, 124, 51, 36, 135, 48, 25, 1415, 33, 6, 22, 12, 215, 28, 77, 52, 5, 14, 407, 16, 82, 2, 8, 4, 107, 117, 2, 15, 256, 4, 2, 7, 3766, 5, 723, 36, 71, 43, 530, 476, 26, 400, 317, 46, 7, 4, 2, 1029, 13, 104, 88, 4, 381, 15, 297, 98, 32, 2071, 56, 26, 141, 6, 194, 2, 18, 4, 226, 22, 21, 134, 476, 26, 480, 5, 144, 30, 2, 18, 51, 36, 28, 224, 92, 25, 104, 4, 226, 65, 16, 38, 1334, 88, 12, 16, 283, 5, 16, 4472, 113, 103, 32, 15, 16, 2, 19, 178, 32]\n",
            "maximum length of a training sequence: 2494\n"
          ],
          "name": "stdout"
        },
        {
          "output_type": "display_data",
          "data": {
            "image/png": "[encoded data removed]",
            "text/plain": [
              "<Figure size 576x396 with 1 Axes>"
            ]
          },
          "metadata": {
            "tags": []
          }
        }
      ]
    },
    {
      "metadata": {
        "colab_type": "code",
        "id": "Hfl42LGCugWB",
        "outputId": "4d6493bc-367d-4a3b-cdf6-23f083cf8ea2",
        "colab": {
          "base_uri": "https://localhost:8080/",
          "height": 52
        }
      },
      "cell_type": "code",
      "source": [
        "print(\"type(y_train):\", type(y_train))\n",
        "print(\"y_train.shape:\", y_train.shape)"
      ],
      "execution_count": 24,
      "outputs": [
        {
          "output_type": "stream",
          "text": [
            "type(y_train): <class 'numpy.ndarray'>\n",
            "y_train.shape: (25000,)\n"
          ],
          "name": "stdout"
        }
      ]
    },
    {
      "metadata": {
        "colab_type": "code",
        "id": "iVw65PNNuobX",
        "outputId": "6cd936e7-fff0-4db5-d0a2-bd17d6d77e1f",
        "colab": {
          "base_uri": "https://localhost:8080/",
          "height": 52
        }
      },
      "cell_type": "code",
      "source": [
        "print(\"X_test.shape:\", X_test.shape)\n",
        "print(\"y_test.shape:\", y_test.shape)"
      ],
      "execution_count": 25,
      "outputs": [
        {
          "output_type": "stream",
          "text": [
            "X_test.shape: (25000,)\n",
            "y_test.shape: (25000,)\n"
          ],
          "name": "stdout"
        }
      ]
    },
    {
      "metadata": {
        "colab_type": "text",
        "id": "V18OA7oQNH3c"
      },
      "cell_type": "markdown",
      "source": [
        "## Data processing\n",
        "\n",
        "Sequences (represented as a list of values) in ```X_train``` represent the reviews.\n",
        "They can have different length.\n",
        "To train the network we should modify them so that they all have the same length.\n",
        "We do this by:\n",
        "- truncating the ones that are too long\n",
        "- padding-with-zero them the ones that are too short.\n",
        "\n",
        "This is obtained using ```sequence.pad_sequences``` of keras."
      ]
    },
    {
      "metadata": {
        "colab_type": "code",
        "id": "JhmiHsOGoRwT",
        "outputId": "3b28a136-97a2-4724-e5d9-04323bc528d8",
        "colab": {
          "base_uri": "https://localhost:8080/",
          "height": 191
        }
      },
      "cell_type": "code",
      "source": [
        "# truncate and pad input sequences\n",
        "\n",
        "# --- START CODE HERE\n",
        "X_train = sequence.pad_sequences(X_train, maxlen=max_review_length)\n",
        "X_test = sequence.pad_sequences(X_test, maxlen=max_review_length)\n",
        "# --- END CODE HERE\n",
        "\n",
        "print(\"len(X_train[0]):\", len(X_train[0]))\n",
        "print(\"len(X_train[1]):\", len(X_train[1]))\n",
        "print(\"X_train[0]:\", X_train[0])"
      ],
      "execution_count": 26,
      "outputs": [
        {
          "output_type": "stream",
          "text": [
            "len(X_train[0]): 100\n",
            "len(X_train[1]): 100\n",
            "X_train[0]: [1415   33    6   22   12  215   28   77   52    5   14  407   16   82\n",
            "    2    8    4  107  117    2   15  256    4    2    7 3766    5  723\n",
            "   36   71   43  530  476   26  400  317   46    7    4    2 1029   13\n",
            "  104   88    4  381   15  297   98   32 2071   56   26  141    6  194\n",
            "    2   18    4  226   22   21  134  476   26  480    5  144   30    2\n",
            "   18   51   36   28  224   92   25  104    4  226   65   16   38 1334\n",
            "   88   12   16  283    5   16 4472  113  103   32   15   16    2   19\n",
            "  178   32]\n"
          ],
          "name": "stdout"
        }
      ]
    },
    {
      "metadata": {
        "colab_type": "text",
        "id": "YlrDTuk5K65Q"
      },
      "cell_type": "markdown",
      "source": [
        "## First model\n",
        "\n",
        "In the first model, we will simply \n",
        "- learn a word embedding  (```Embedding``` layer in keras) and apply it to each of item of a sequence, \n",
        "  -  in keras, embedding is not a matrix going from one-hot-encoding to embedding, it is a layer that goes from index-in-word-dictionary to embedding\n",
        "  - the embedding goes from ```top_words``` dimensions to  ```embedding_vector_length``` dimensions\n",
        "- average the embedding obtained for each word of a sequence over all words of the sequence (you should use ```K.mean``` from the keras backend https://keras.io/backend/ and ```Lambda``` https://keras.io/layers/core/ ) \n",
        "- apply a fully connected (```Dense``` layer in keras) which output activation is a sigmoid ()predicting the 0 or 1 rating)\n",
        "\n"
      ]
    },
    {
      "metadata": {
        "colab_type": "code",
        "id": "ufW00TGcs3Jj",
        "colab": {}
      },
      "cell_type": "code",
      "source": [
        "K.clear_session()"
      ],
      "execution_count": 0,
      "outputs": []
    },
    {
      "metadata": {
        "colab_type": "code",
        "id": "zspaUptgtW9l",
        "outputId": "a7eb23fd-8ca7-4094-afc3-dee50345bfcb",
        "colab": {
          "base_uri": "https://localhost:8080/",
          "height": 260
        }
      },
      "cell_type": "code",
      "source": [
        "# create the model\n",
        "embedding_vector_length = 32\n",
        "\n",
        "# --- START CODE HERE\n",
        "# define the model\n",
        "model = Sequential()\n",
        "model.add(Embedding(5000, embedding_vector_length, input_length=100))\n",
        "model.add(Lambda(lambda x: K.mean(x, axis=1)))\n",
        "model.add(Dense(1, activation='sigmoid'))\n",
        "# --- END CODE HERE\n",
        "\n",
        "print(model.summary())"
      ],
      "execution_count": 41,
      "outputs": [
        {
          "output_type": "stream",
          "text": [
            "_________________________________________________________________\n",
            "Layer (type)                 Output Shape              Param #   \n",
            "=================================================================\n",
            "embedding_10 (Embedding)     (None, 100, 32)           160000    \n",
            "_________________________________________________________________\n",
            "lambda_5 (Lambda)            (None, 32)                0         \n",
            "_________________________________________________________________\n",
            "dense_8 (Dense)              (None, 1)                 33        \n",
            "=================================================================\n",
            "Total params: 160,033\n",
            "Trainable params: 160,033\n",
            "Non-trainable params: 0\n",
            "_________________________________________________________________\n",
            "None\n"
          ],
          "name": "stdout"
        }
      ]
    },
    {
      "metadata": {
        "colab_type": "code",
        "id": "pFXz4AS6tawQ",
        "outputId": "a95bdb2e-1ff1-4aad-8cf9-679ed6e3c462",
        "colab": {
          "base_uri": "https://localhost:8080/",
          "height": 156
        }
      },
      "cell_type": "code",
      "source": [
        "# compile and fit the model\n",
        "model.compile(loss='binary_crossentropy', optimizer='adam', metrics=['accuracy'])\n",
        "model.fit(X_train, y_train, epochs=3, batch_size=64, validation_data=(X_test, y_test))"
      ],
      "execution_count": 42,
      "outputs": [
        {
          "output_type": "stream",
          "text": [
            "Train on 25000 samples, validate on 25000 samples\n",
            "Epoch 1/3\n",
            "25000/25000 [==============================] - 3s 129us/step - loss: 0.6386 - acc: 0.7145 - val_loss: 0.5623 - val_acc: 0.7792\n",
            "Epoch 2/3\n",
            "25000/25000 [==============================] - 3s 111us/step - loss: 0.4868 - acc: 0.8145 - val_loss: 0.4395 - val_acc: 0.8244\n",
            "Epoch 3/3\n",
            "25000/25000 [==============================] - 3s 101us/step - loss: 0.3939 - acc: 0.8450 - val_loss: 0.3847 - val_acc: 0.8366\n"
          ],
          "name": "stdout"
        },
        {
          "output_type": "execute_result",
          "data": {
            "text/plain": [
              "<keras.callbacks.History at 0x7f79d5246240>"
            ]
          },
          "metadata": {
            "tags": []
          },
          "execution_count": 42
        }
      ]
    },
    {
      "metadata": {
        "colab_type": "text",
        "id": "SBqyzLJRUIsC"
      },
      "cell_type": "markdown",
      "source": [
        "##Results\n",
        "\n",
        "After only 3 epochs, you should obtain an accuracy around 84% for the test data."
      ]
    },
    {
      "metadata": {
        "colab_type": "text",
        "id": "zK9e5Eo1Ks2a"
      },
      "cell_type": "markdown",
      "source": [
        "## Second model\n",
        "\n",
        "In the second model, we will replace\n",
        "- average the obtained embedding over the sequence (use ```K.mean``` and ```Lambda```from keras backend)\n",
        "- by a RNN layer (more precisely an ```LSTM```) in a Many-To-One configuration with $n_a=100$\n"
      ]
    },
    {
      "metadata": {
        "colab_type": "code",
        "id": "rwoXuOqqVDOy",
        "colab": {}
      },
      "cell_type": "code",
      "source": [
        "K.clear_session()"
      ],
      "execution_count": 0,
      "outputs": []
    },
    {
      "metadata": {
        "colab_type": "code",
        "id": "7dl-CSMKoViX",
        "outputId": "06bfecc2-9095-4011-b998-692404d49672",
        "colab": {
          "base_uri": "https://localhost:8080/",
          "height": 260
        }
      },
      "cell_type": "code",
      "source": [
        "# create the model\n",
        "\n",
        "# --- START CODE HERE\n",
        "# define the model\n",
        "model = Sequential()\n",
        "model.add(Embedding(5000, embedding_vector_length, input_length=100))\n",
        "model.add(LSTM(100))\n",
        "model.add(Dense(1, activation='sigmoid'))\n",
        "# --- END CODE HERE\n",
        "\n",
        "\n",
        "print(model.summary())"
      ],
      "execution_count": 55,
      "outputs": [
        {
          "output_type": "stream",
          "text": [
            "_________________________________________________________________\n",
            "Layer (type)                 Output Shape              Param #   \n",
            "=================================================================\n",
            "embedding_8 (Embedding)      (None, 100, 32)           160000    \n",
            "_________________________________________________________________\n",
            "lstm_6 (LSTM)                (None, 100)               53200     \n",
            "_________________________________________________________________\n",
            "dense_6 (Dense)              (None, 1)                 101       \n",
            "=================================================================\n",
            "Total params: 213,301\n",
            "Trainable params: 213,301\n",
            "Non-trainable params: 0\n",
            "_________________________________________________________________\n",
            "None\n"
          ],
          "name": "stdout"
        }
      ]
    },
    {
      "metadata": {
        "colab_type": "code",
        "id": "-bp7PzX7oXtB",
        "outputId": "74eeab80-3db0-49a8-c6cf-a6ed05eb86d5",
        "colab": {
          "base_uri": "https://localhost:8080/",
          "height": 156
        }
      },
      "cell_type": "code",
      "source": [
        "# compile and fit the model\n",
        "model.compile(loss='binary_crossentropy', optimizer='adam', metrics=['accuracy'])\n",
        "model.fit(X_train, y_train, epochs=3, batch_size=64, validation_data=(X_test, y_test))\n"
      ],
      "execution_count": 53,
      "outputs": [
        {
          "output_type": "stream",
          "text": [
            "Train on 25000 samples, validate on 25000 samples\n",
            "Epoch 1/3\n",
            "25000/25000 [==============================] - 39s 2ms/step - loss: 0.4413 - acc: 0.7832 - val_loss: 0.3399 - val_acc: 0.8490\n",
            "Epoch 2/3\n",
            "25000/25000 [==============================] - 37s 1ms/step - loss: 0.2925 - acc: 0.8784 - val_loss: 0.3389 - val_acc: 0.8508\n",
            "Epoch 3/3\n",
            "25000/25000 [==============================] - 37s 1ms/step - loss: 0.2547 - acc: 0.8962 - val_loss: 0.3533 - val_acc: 0.8473\n"
          ],
          "name": "stdout"
        },
        {
          "output_type": "execute_result",
          "data": {
            "text/plain": [
              "<keras.callbacks.History at 0x7f79dd38c0f0>"
            ]
          },
          "metadata": {
            "tags": []
          },
          "execution_count": 53
        }
      ]
    },
    {
      "metadata": {
        "colab_type": "text",
        "id": "F1LN_fjMWBHJ"
      },
      "cell_type": "markdown",
      "source": [
        "## Results\n",
        "\n",
        "After only 3 epochs, you should obtain an accuracy around 88% for the test data."
      ]
    }
  ]
}